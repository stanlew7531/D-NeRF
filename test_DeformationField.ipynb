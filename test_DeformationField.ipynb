{
 "cells": [
  {
   "cell_type": "code",
   "execution_count": 1,
   "source": [
    "%matplotlib inline\n",
    "import PartExtractor.DeformationField as DeformationField\n",
    "import PartExtractor.DNerfManager as DNerfManager\n",
    "from run_dnerf import config_parser, create_nerf\n",
    "import matplotlib.pyplot as plt\n",
    "from mpl_toolkits.mplot3d import Axes3D\n",
    "import torch\n",
    "from load_blender import pose_spherical\n",
    "from run_dnerf import render_path\n",
    "from run_dnerf_helpers import to8b\n",
    "from scipy.spatial.transform import Rotation as R\n",
    "import numpy as np\n",
    "import cv2 as cv"
   ],
   "outputs": [],
   "metadata": {}
  },
  {
   "cell_type": "code",
   "execution_count": 2,
   "source": [
    "config_file = \"configs/ball_cube_2.txt\"\n",
    "manager = DNerfManager.DNerfManager(config_file = config_file)\n",
    "times = torch.Tensor([0.0, 0.25, 0.5, 0.75, 1.0])"
   ],
   "outputs": [
    {
     "output_type": "stream",
     "name": "stdout",
     "text": [
      "NeRF type selected: direct_temporal\n",
      "Found ckpts ['./logs/ball_cube_frame_fix_2/050000.tar', './logs/ball_cube_frame_fix_2/100000.tar', './logs/ball_cube_frame_fix_2/150000.tar', './logs/ball_cube_frame_fix_2/200000.tar', './logs/ball_cube_frame_fix_2/250000.tar', './logs/ball_cube_frame_fix_2/300000.tar', './logs/ball_cube_frame_fix_2/350000.tar', './logs/ball_cube_frame_fix_2/400000.tar', './logs/ball_cube_frame_fix_2/450000.tar', './logs/ball_cube_frame_fix_2/500000.tar', './logs/ball_cube_frame_fix_2/550000.tar', './logs/ball_cube_frame_fix_2/600000.tar', './logs/ball_cube_frame_fix_2/650000.tar', './logs/ball_cube_frame_fix_2/700000.tar', './logs/ball_cube_frame_fix_2/750000.tar', './logs/ball_cube_frame_fix_2/800000.tar', './logs/ball_cube_frame_fix_2/latest.tar']\n",
      "Reloading from ./logs/ball_cube_frame_fix_2/latest.tar\n"
     ]
    }
   ],
   "metadata": {}
  },
  {
   "cell_type": "code",
   "execution_count": 5,
   "source": [
    "field = DeformationField.DeformationField(manager, times, torch.Tensor([[-1.0,1.0],[-1.0,1.0],[-1.0,1.0]]), torch.Tensor([10,10,10]).to(dtype=torch.int32))"
   ],
   "outputs": [],
   "metadata": {}
  }
 ],
 "metadata": {
  "orig_nbformat": 4,
  "language_info": {
   "name": "python",
   "version": "3.6.13",
   "mimetype": "text/x-python",
   "codemirror_mode": {
    "name": "ipython",
    "version": 3
   },
   "pygments_lexer": "ipython3",
   "nbconvert_exporter": "python",
   "file_extension": ".py"
  },
  "kernelspec": {
   "name": "python3",
   "display_name": "Python 3.6.13 64-bit ('dnerf': conda)"
  },
  "interpreter": {
   "hash": "d83161bdbcf680a5048fb088216905710285e87a4024158ff108c85f6a6c5994"
  }
 },
 "nbformat": 4,
 "nbformat_minor": 2
}